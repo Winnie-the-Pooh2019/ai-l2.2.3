{
 "cells": [
  {
   "cell_type": "code",
   "id": "initial_id",
   "metadata": {
    "collapsed": true,
    "ExecuteTime": {
     "end_time": "2025-03-02T11:08:08.586515Z",
     "start_time": "2025-03-02T11:08:07.461048Z"
    }
   },
   "source": [
    "import pandas as pd\n",
    "import numpy as np\n",
    "import matplotlib.pyplot as plt\n",
    "from sklearn.preprocessing import StandardScaler, OneHotEncoder, OrdinalEncoder\n",
    "from sklearn.compose import ColumnTransformer\n",
    "from sklearn.cluster import KMeans\n",
    "from sklearn.pipeline import Pipeline\n",
    "from sklearn.metrics import silhouette_score"
   ],
   "outputs": [],
   "execution_count": 2
  },
  {
   "metadata": {},
   "cell_type": "markdown",
   "source": "Импортируем данные из файла",
   "id": "c27928ff7f80ddbd"
  },
  {
   "metadata": {
    "ExecuteTime": {
     "end_time": "2025-03-02T11:37:24.280079Z",
     "start_time": "2025-03-02T11:37:24.267084Z"
    }
   },
   "cell_type": "code",
   "source": [
    "df = pd.read_csv('data/HR.csv')\n",
    "\n",
    "df.head()"
   ],
   "id": "e0bebeaba8973a37",
   "outputs": [
    {
     "data": {
      "text/plain": [
       "   satisfaction_level  last_evaluation  number_project  average_montly_hours  \\\n",
       "0                0.38             0.53               2                   157   \n",
       "1                0.80             0.86               5                   262   \n",
       "2                0.11             0.88               7                   272   \n",
       "3                0.72             0.87               5                   223   \n",
       "4                0.37             0.52               2                   159   \n",
       "\n",
       "   time_spend_company  work_accident  left  promotion_last_5years department  \\\n",
       "0                   3              0     1                      0      sales   \n",
       "1                   6              0     1                      0      sales   \n",
       "2                   4              0     1                      0      sales   \n",
       "3                   5              0     1                      0      sales   \n",
       "4                   3              0     1                      0      sales   \n",
       "\n",
       "   salary  \n",
       "0     low  \n",
       "1  medium  \n",
       "2  medium  \n",
       "3     low  \n",
       "4     low  "
      ],
      "text/html": [
       "<div>\n",
       "<style scoped>\n",
       "    .dataframe tbody tr th:only-of-type {\n",
       "        vertical-align: middle;\n",
       "    }\n",
       "\n",
       "    .dataframe tbody tr th {\n",
       "        vertical-align: top;\n",
       "    }\n",
       "\n",
       "    .dataframe thead th {\n",
       "        text-align: right;\n",
       "    }\n",
       "</style>\n",
       "<table border=\"1\" class=\"dataframe\">\n",
       "  <thead>\n",
       "    <tr style=\"text-align: right;\">\n",
       "      <th></th>\n",
       "      <th>satisfaction_level</th>\n",
       "      <th>last_evaluation</th>\n",
       "      <th>number_project</th>\n",
       "      <th>average_montly_hours</th>\n",
       "      <th>time_spend_company</th>\n",
       "      <th>work_accident</th>\n",
       "      <th>left</th>\n",
       "      <th>promotion_last_5years</th>\n",
       "      <th>department</th>\n",
       "      <th>salary</th>\n",
       "    </tr>\n",
       "  </thead>\n",
       "  <tbody>\n",
       "    <tr>\n",
       "      <th>0</th>\n",
       "      <td>0.38</td>\n",
       "      <td>0.53</td>\n",
       "      <td>2</td>\n",
       "      <td>157</td>\n",
       "      <td>3</td>\n",
       "      <td>0</td>\n",
       "      <td>1</td>\n",
       "      <td>0</td>\n",
       "      <td>sales</td>\n",
       "      <td>low</td>\n",
       "    </tr>\n",
       "    <tr>\n",
       "      <th>1</th>\n",
       "      <td>0.80</td>\n",
       "      <td>0.86</td>\n",
       "      <td>5</td>\n",
       "      <td>262</td>\n",
       "      <td>6</td>\n",
       "      <td>0</td>\n",
       "      <td>1</td>\n",
       "      <td>0</td>\n",
       "      <td>sales</td>\n",
       "      <td>medium</td>\n",
       "    </tr>\n",
       "    <tr>\n",
       "      <th>2</th>\n",
       "      <td>0.11</td>\n",
       "      <td>0.88</td>\n",
       "      <td>7</td>\n",
       "      <td>272</td>\n",
       "      <td>4</td>\n",
       "      <td>0</td>\n",
       "      <td>1</td>\n",
       "      <td>0</td>\n",
       "      <td>sales</td>\n",
       "      <td>medium</td>\n",
       "    </tr>\n",
       "    <tr>\n",
       "      <th>3</th>\n",
       "      <td>0.72</td>\n",
       "      <td>0.87</td>\n",
       "      <td>5</td>\n",
       "      <td>223</td>\n",
       "      <td>5</td>\n",
       "      <td>0</td>\n",
       "      <td>1</td>\n",
       "      <td>0</td>\n",
       "      <td>sales</td>\n",
       "      <td>low</td>\n",
       "    </tr>\n",
       "    <tr>\n",
       "      <th>4</th>\n",
       "      <td>0.37</td>\n",
       "      <td>0.52</td>\n",
       "      <td>2</td>\n",
       "      <td>159</td>\n",
       "      <td>3</td>\n",
       "      <td>0</td>\n",
       "      <td>1</td>\n",
       "      <td>0</td>\n",
       "      <td>sales</td>\n",
       "      <td>low</td>\n",
       "    </tr>\n",
       "  </tbody>\n",
       "</table>\n",
       "</div>"
      ]
     },
     "execution_count": 20,
     "metadata": {},
     "output_type": "execute_result"
    }
   ],
   "execution_count": 20
  },
  {
   "metadata": {},
   "cell_type": "markdown",
   "source": "Посчитаем количество пропусков",
   "id": "1d947a9d1c5abc16"
  },
  {
   "metadata": {
    "ExecuteTime": {
     "end_time": "2025-03-02T11:37:25.607525Z",
     "start_time": "2025-03-02T11:37:25.603810Z"
    }
   },
   "cell_type": "code",
   "source": "print(df.isnull().sum())",
   "id": "6ebc0178c3009347",
   "outputs": [
    {
     "name": "stdout",
     "output_type": "stream",
     "text": [
      "satisfaction_level       0\n",
      "last_evaluation          0\n",
      "number_project           0\n",
      "average_montly_hours     0\n",
      "time_spend_company       0\n",
      "work_accident            0\n",
      "left                     0\n",
      "promotion_last_5years    0\n",
      "department               0\n",
      "salary                   0\n",
      "dtype: int64\n"
     ]
    }
   ],
   "execution_count": 21
  },
  {
   "metadata": {},
   "cell_type": "markdown",
   "source": "Пропусков нет",
   "id": "562ec22fe3e7715c"
  },
  {
   "metadata": {
    "ExecuteTime": {
     "end_time": "2025-03-02T11:37:27.085202Z",
     "start_time": "2025-03-02T11:37:27.082876Z"
    }
   },
   "cell_type": "code",
   "source": "print(df.dtypes)",
   "id": "ab6190cfca9d856f",
   "outputs": [
    {
     "name": "stdout",
     "output_type": "stream",
     "text": [
      "satisfaction_level       float64\n",
      "last_evaluation          float64\n",
      "number_project             int64\n",
      "average_montly_hours       int64\n",
      "time_spend_company         int64\n",
      "work_accident              int64\n",
      "left                       int64\n",
      "promotion_last_5years      int64\n",
      "department                object\n",
      "salary                    object\n",
      "dtype: object\n"
     ]
    }
   ],
   "execution_count": 22
  },
  {
   "metadata": {},
   "cell_type": "markdown",
   "source": "Все признаки числовые кроме *salary* и *department*",
   "id": "d14dc60e99bf901e"
  },
  {
   "metadata": {},
   "cell_type": "markdown",
   "source": "Найдем количество людей, покинувших компанию",
   "id": "b503662206d8e494"
  },
  {
   "metadata": {
    "ExecuteTime": {
     "end_time": "2025-03-02T11:37:28.569821Z",
     "start_time": "2025-03-02T11:37:28.567310Z"
    }
   },
   "cell_type": "code",
   "source": "print(df['left'].value_counts())",
   "id": "8c0abd026d6feaaf",
   "outputs": [
    {
     "name": "stdout",
     "output_type": "stream",
     "text": [
      "left\n",
      "0    11428\n",
      "1     3571\n",
      "Name: count, dtype: int64\n"
     ]
    }
   ],
   "execution_count": 23
  },
  {
   "metadata": {
    "ExecuteTime": {
     "end_time": "2025-03-02T11:37:38.763942Z",
     "start_time": "2025-03-02T11:37:38.756687Z"
    }
   },
   "cell_type": "code",
   "source": "df.drop(['salary', 'department'], axis=1).groupby('left').mean()",
   "id": "44b29279349b4bcc",
   "outputs": [
    {
     "data": {
      "text/plain": [
       "      satisfaction_level  last_evaluation  number_project  \\\n",
       "left                                                        \n",
       "0               0.666810         0.715473        3.786664   \n",
       "1               0.440098         0.718113        3.855503   \n",
       "\n",
       "      average_montly_hours  time_spend_company  work_accident  \\\n",
       "left                                                            \n",
       "0               199.060203            3.380032       0.175009   \n",
       "1               207.419210            3.876505       0.047326   \n",
       "\n",
       "      promotion_last_5years  \n",
       "left                         \n",
       "0                  0.026251  \n",
       "1                  0.005321  "
      ],
      "text/html": [
       "<div>\n",
       "<style scoped>\n",
       "    .dataframe tbody tr th:only-of-type {\n",
       "        vertical-align: middle;\n",
       "    }\n",
       "\n",
       "    .dataframe tbody tr th {\n",
       "        vertical-align: top;\n",
       "    }\n",
       "\n",
       "    .dataframe thead th {\n",
       "        text-align: right;\n",
       "    }\n",
       "</style>\n",
       "<table border=\"1\" class=\"dataframe\">\n",
       "  <thead>\n",
       "    <tr style=\"text-align: right;\">\n",
       "      <th></th>\n",
       "      <th>satisfaction_level</th>\n",
       "      <th>last_evaluation</th>\n",
       "      <th>number_project</th>\n",
       "      <th>average_montly_hours</th>\n",
       "      <th>time_spend_company</th>\n",
       "      <th>work_accident</th>\n",
       "      <th>promotion_last_5years</th>\n",
       "    </tr>\n",
       "    <tr>\n",
       "      <th>left</th>\n",
       "      <th></th>\n",
       "      <th></th>\n",
       "      <th></th>\n",
       "      <th></th>\n",
       "      <th></th>\n",
       "      <th></th>\n",
       "      <th></th>\n",
       "    </tr>\n",
       "  </thead>\n",
       "  <tbody>\n",
       "    <tr>\n",
       "      <th>0</th>\n",
       "      <td>0.666810</td>\n",
       "      <td>0.715473</td>\n",
       "      <td>3.786664</td>\n",
       "      <td>199.060203</td>\n",
       "      <td>3.380032</td>\n",
       "      <td>0.175009</td>\n",
       "      <td>0.026251</td>\n",
       "    </tr>\n",
       "    <tr>\n",
       "      <th>1</th>\n",
       "      <td>0.440098</td>\n",
       "      <td>0.718113</td>\n",
       "      <td>3.855503</td>\n",
       "      <td>207.419210</td>\n",
       "      <td>3.876505</td>\n",
       "      <td>0.047326</td>\n",
       "      <td>0.005321</td>\n",
       "    </tr>\n",
       "  </tbody>\n",
       "</table>\n",
       "</div>"
      ]
     },
     "execution_count": 25,
     "metadata": {},
     "output_type": "execute_result"
    }
   ],
   "execution_count": 25
  },
  {
   "metadata": {},
   "cell_type": "markdown",
   "source": [
    "Видим, что уровень удовлетворенности у ушедших ниже, чем у оставшихся (логично 🧐).\n",
    "`last_evaluation` одинаков для обеих категорий и вряд ли на что-то влияет, его можно отбросить"
   ],
   "id": "19dea710580398b2"
  },
  {
   "metadata": {
    "ExecuteTime": {
     "end_time": "2025-03-02T11:37:55.281372Z",
     "start_time": "2025-03-02T11:37:55.278740Z"
    }
   },
   "cell_type": "code",
   "source": "df.drop('last_evaluation', axis=1, inplace=True)",
   "id": "8d892eede661d714",
   "outputs": [],
   "execution_count": 26
  },
  {
   "metadata": {},
   "cell_type": "markdown",
   "source": "Рассмотрим текучесть кадров по отделам",
   "id": "9e15903ef0ea6389"
  },
  {
   "metadata": {
    "ExecuteTime": {
     "end_time": "2025-03-02T11:49:53.532489Z",
     "start_time": "2025-03-02T11:49:53.433058Z"
    }
   },
   "cell_type": "code",
   "source": [
    "pd.crosstab(df['department'], df['left']).plot(kind='bar')\n",
    "plt.title('Число ушедших из компании по отделам')\n",
    "plt.xlabel('Отдел')\n",
    "plt.ylabel('Люди, шт')\n",
    "plt.show()"
   ],
   "id": "ad25a224b1a6f4a5",
   "outputs": [
    {
     "data": {
      "text/plain": [
       "<Figure size 640x480 with 1 Axes>"
      ],
      "image/png": "[encoded data removed]"
     },
     "metadata": {},
     "output_type": "display_data"
    }
   ],
   "execution_count": 31
  },
  {
   "metadata": {},
   "cell_type": "markdown",
   "source": [
    "Как видно, чаще всего уходят из отдела продаж, поддержки и технического\n",
    "Далее проанализируем влияние зарплаты на уход"
   ],
   "id": "c654467d2140948b"
  },
  {
   "metadata": {
    "ExecuteTime": {
     "end_time": "2025-03-02T11:51:43.579607Z",
     "start_time": "2025-03-02T11:51:43.506811Z"
    }
   },
   "cell_type": "code",
   "source": [
    "table = pd.crosstab(df['salary'], df['left'])\n",
    "table.div(table.sum(1).astype(float), axis=0).plot(kind='bar', stacked=True)\n",
    "plt.title('Соотношение ушедших к оставшимся по уровню зарплаты')\n",
    "plt.xlabel('Salary Level')\n",
    "plt.show()"
   ],
   "id": "68e0304f4455a517",
   "outputs": [
    {
     "data": {
      "text/plain": [
       "<Figure size 640x480 with 1 Axes>"
      ],
      "image/png": "[encoded data removed]"
     },
     "metadata": {},
     "output_type": "display_data"
    }
   ],
   "execution_count": 38
  },
  {
   "metadata": {},
   "cell_type": "markdown",
   "source": "Закодируем категориальные признаки",
   "id": "f2b2336e635886b5"
  },
  {
   "metadata": {
    "ExecuteTime": {
     "end_time": "2025-03-02T11:55:24.344049Z",
     "start_time": "2025-03-02T11:55:24.333167Z"
    }
   },
   "cell_type": "code",
   "source": [
    "df_encoded = pd.get_dummies(df, columns=['department'])\n",
    "\n",
    "ord_encoder = OrdinalEncoder()\n",
    "ord_encoder.fit(df[['salary']])\n",
    "df_encoded[['salary']] = ord_encoder.fit_transform(df_encoded[['salary']])\n",
    "\n",
    "print(df_encoded.info())"
   ],
   "id": "a2872a3b0843ac1f",
   "outputs": [
    {
     "name": "stdout",
     "output_type": "stream",
     "text": [
      "<class 'pandas.core.frame.DataFrame'>\n",
      "RangeIndex: 14999 entries, 0 to 14998\n",
      "Data columns (total 18 columns):\n",
      " #   Column                  Non-Null Count  Dtype  \n",
      "---  ------                  --------------  -----  \n",
      " 0   satisfaction_level      14999 non-null  float64\n",
      " 1   number_project          14999 non-null  int64  \n",
      " 2   average_montly_hours    14999 non-null  int64  \n",
      " 3   time_spend_company      14999 non-null  int64  \n",
      " 4   work_accident           14999 non-null  int64  \n",
      " 5   left                    14999 non-null  int64  \n",
      " 6   promotion_last_5years   14999 non-null  int64  \n",
      " 7   salary                  14999 non-null  float64\n",
      " 8   department_IT           14999 non-null  bool   \n",
      " 9   department_RandD        14999 non-null  bool   \n",
      " 10  department_accounting   14999 non-null  bool   \n",
      " 11  department_hr           14999 non-null  bool   \n",
      " 12  department_management   14999 non-null  bool   \n",
      " 13  department_marketing    14999 non-null  bool   \n",
      " 14  department_product_mng  14999 non-null  bool   \n",
      " 15  department_sales        14999 non-null  bool   \n",
      " 16  department_support      14999 non-null  bool   \n",
      " 17  department_technical    14999 non-null  bool   \n",
      "dtypes: bool(10), float64(2), int64(6)\n",
      "memory usage: 1.1 MB\n",
      "None\n"
     ]
    }
   ],
   "execution_count": 40
  },
  {
   "metadata": {},
   "cell_type": "markdown",
   "source": "",
   "id": "7e52298fba38bf7e"
  },
  {
   "metadata": {},
   "cell_type": "markdown",
   "source": "",
   "id": "b962cd934106c464"
  },
  {
   "metadata": {},
   "cell_type": "markdown",
   "source": "Далее удаляем строки, в которых указаны не уволившиеся люди и отбрасываем столбец *left*",
   "id": "562155e16b38b57"
  },
  {
   "metadata": {
    "ExecuteTime": {
     "end_time": "2025-03-02T09:45:06.196898Z",
     "start_time": "2025-03-02T09:45:06.191666Z"
    }
   },
   "cell_type": "code",
   "source": [
    "df_left = df[df['left'] == 1]\n",
    "\n",
    "X = df_left.drop('left', axis=1)\n",
    "y = df_left['left']\n",
    "\n",
    "X.info()"
   ],
   "id": "5d40d402b7c85741",
   "outputs": [
    {
     "name": "stdout",
     "output_type": "stream",
     "text": [
      "<class 'pandas.core.frame.DataFrame'>\n",
      "Index: 3571 entries, 0 to 14998\n",
      "Data columns (total 9 columns):\n",
      " #   Column                 Non-Null Count  Dtype  \n",
      "---  ------                 --------------  -----  \n",
      " 0   satisfaction_level     3571 non-null   float64\n",
      " 1   last_evaluation        3571 non-null   float64\n",
      " 2   number_project         3571 non-null   int64  \n",
      " 3   average_montly_hours   3571 non-null   int64  \n",
      " 4   time_spend_company     3571 non-null   int64  \n",
      " 5   work_accident          3571 non-null   int64  \n",
      " 6   promotion_last_5years  3571 non-null   int64  \n",
      " 7   department             3571 non-null   object \n",
      " 8   salary                 3571 non-null   object \n",
      "dtypes: float64(2), int64(5), object(2)\n",
      "memory usage: 279.0+ KB\n"
     ]
    }
   ],
   "execution_count": 93
  },
  {
   "metadata": {},
   "cell_type": "markdown",
   "source": "Далее кодируем категориальные признаки и масштабируем данные",
   "id": "71fd124aa0a28645"
  },
  {
   "metadata": {
    "ExecuteTime": {
     "end_time": "2025-03-02T09:45:06.314891Z",
     "start_time": "2025-03-02T09:45:06.301589Z"
    }
   },
   "cell_type": "code",
   "source": [
    "X_encoded = pd.get_dummies(X, columns=['department'])\n",
    "\n",
    "ord_encoder = OrdinalEncoder()\n",
    "ord_encoder.fit(X[['salary']])\n",
    "X_encoded[['salary']] = ord_encoder.fit_transform(X_encoded[['salary']])\n",
    "\n",
    "scaler = StandardScaler()\n",
    "X_scaled = pd.DataFrame(scaler.fit_transform(X_encoded), columns=X_encoded.columns)\n",
    "\n",
    "print(X_scaled.info())"
   ],
   "id": "70ac6f0ebd495e65",
   "outputs": [
    {
     "name": "stdout",
     "output_type": "stream",
     "text": [
      "<class 'pandas.core.frame.DataFrame'>\n",
      "RangeIndex: 3571 entries, 0 to 3570\n",
      "Data columns (total 18 columns):\n",
      " #   Column                  Non-Null Count  Dtype  \n",
      "---  ------                  --------------  -----  \n",
      " 0   satisfaction_level      3571 non-null   float64\n",
      " 1   last_evaluation         3571 non-null   float64\n",
      " 2   number_project          3571 non-null   float64\n",
      " 3   average_montly_hours    3571 non-null   float64\n",
      " 4   time_spend_company      3571 non-null   float64\n",
      " 5   work_accident           3571 non-null   float64\n",
      " 6   promotion_last_5years   3571 non-null   float64\n",
      " 7   salary                  3571 non-null   float64\n",
      " 8   department_IT           3571 non-null   float64\n",
      " 9   department_RandD        3571 non-null   float64\n",
      " 10  department_accounting   3571 non-null   float64\n",
      " 11  department_hr           3571 non-null   float64\n",
      " 12  department_management   3571 non-null   float64\n",
      " 13  department_marketing    3571 non-null   float64\n",
      " 14  department_product_mng  3571 non-null   float64\n",
      " 15  department_sales        3571 non-null   float64\n",
      " 16  department_support      3571 non-null   float64\n",
      " 17  department_technical    3571 non-null   float64\n",
      "dtypes: float64(18)\n",
      "memory usage: 502.3 KB\n",
      "None\n"
     ]
    }
   ],
   "execution_count": 94
  },
  {
   "metadata": {},
   "cell_type": "markdown",
   "source": "Кластеризация методом Kmeans",
   "id": "39ab39cfad2db0a3"
  },
  {
   "metadata": {
    "ExecuteTime": {
     "end_time": "2025-03-02T10:06:39.511093Z",
     "start_time": "2025-03-02T10:06:33.737057Z"
    }
   },
   "cell_type": "code",
   "source": [
    "inertia = []\n",
    "silhouettes = []\n",
    "\n",
    "iter_max = 50\n",
    "\n",
    "for k in range(2, iter_max):\n",
    "    kmeans = KMeans(n_clusters=k, random_state=42)\n",
    "    kmeans.fit(X_scaled)\n",
    "    predicted = kmeans.predict(X_scaled)\n",
    "\n",
    "    silhouette_avg = silhouette_score(X_scaled, predicted)\n",
    "\n",
    "    silhouettes.append(silhouette_avg)\n",
    "    inertia.append(-kmeans.score(X_scaled))\n",
    "\n",
    "fig, axs = plt.subplots(1, 2)\n",
    "axs[0].plot(range(2, iter_max), silhouettes, label='Silhouette')\n",
    "axs[0].grid(True)\n",
    "\n",
    "axs[1].plot(range(2, iter_max), inertia, label='Inertia')\n",
    "axs[1].grid(True)\n",
    "\n",
    "plt.tight_layout()\n",
    "plt.show()"
   ],
   "id": "91d52b234767806a",
   "outputs": [
    {
     "data": {
      "text/plain": [
       "<Figure size 640x480 with 2 Axes>"
      ],
      "image/png": "[encoded data removed]"
     },
     "metadata": {},
     "output_type": "display_data"
    }
   ],
   "execution_count": 107
  }
 ],
 "metadata": {
  "kernelspec": {
   "display_name": "Python 3",
   "language": "python",
   "name": "python3"
  },
  "language_info": {
   "codemirror_mode": {
    "name": "ipython",
    "version": 2
   },
   "file_extension": ".py",
   "mimetype": "text/x-python",
   "name": "python",
   "nbconvert_exporter": "python",
   "pygments_lexer": "ipython2",
   "version": "2.7.6"
  }
 },
 "nbformat": 4,
 "nbformat_minor": 5
}
